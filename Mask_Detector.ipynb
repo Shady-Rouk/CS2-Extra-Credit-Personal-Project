{
  "nbformat": 4,
  "nbformat_minor": 0,
  "metadata": {
    "colab": {
      "name": "Mask_Detector.ipynb",
      "provenance": [],
      "authorship_tag": "ABX9TyOihwwbk43YNBLMkX2Tw/Gq",
      "include_colab_link": true
    },
    "kernelspec": {
      "display_name": "Python 3",
      "name": "python3"
    },
    "language_info": {
      "name": "python"
    }
  },
  "cells": [
    {
      "cell_type": "markdown",
      "metadata": {
        "id": "view-in-github",
        "colab_type": "text"
      },
      "source": [
        "<a href=\"https://colab.research.google.com/github/Shady-Rouk/CS2-Extra-Credit-Personal-Project/blob/main/Mask_Detector.ipynb\" target=\"_parent\"><img src=\"https://colab.research.google.com/assets/colab-badge.svg\" alt=\"Open In Colab\"/></a>"
      ]
    },
    {
      "cell_type": "markdown",
      "metadata": {
        "id": "fV0g7Xh_m8oV"
      },
      "source": [
        "0. Extracting train and test data from zipfile"
      ]
    },
    {
      "cell_type": "code",
      "metadata": {
        "id": "QhvK9ID8nFbE",
        "colab": {
          "base_uri": "https://localhost:8080/"
        },
        "outputId": "2a77e8fc-659f-4305-e3ff-7ec2296fba27"
      },
      "source": [
        "from google.colab import drive\n",
        "drive.mount('/content/gdrive')"
      ],
      "execution_count": 1,
      "outputs": [
        {
          "output_type": "stream",
          "name": "stdout",
          "text": [
            "Mounted at /content/gdrive\n"
          ]
        }
      ]
    },
    {
      "cell_type": "code",
      "metadata": {
        "id": "LcfEVfXypSi9"
      },
      "source": [
        "!unzip gdrive/My\\ Drive/'Mask Detector CS 2'/train.zip"
      ],
      "execution_count": null,
      "outputs": []
    },
    {
      "cell_type": "code",
      "metadata": {
        "id": "n3CGdeRzpx-M"
      },
      "source": [
        "!unzip gdrive/My\\ Drive/'Mask Detector CS 2'/test.zip"
      ],
      "execution_count": null,
      "outputs": []
    },
    {
      "cell_type": "markdown",
      "metadata": {
        "id": "KPSfVCFsk-nQ"
      },
      "source": [
        "1. Importing required libraries"
      ]
    },
    {
      "cell_type": "code",
      "metadata": {
        "id": "AFTQinAikOMm"
      },
      "source": [
        "from tensorflow.keras.optimizers import RMSprop\n",
        "from keras.preprocessing.image import ImageDataGenerator\n",
        "import cv2\n",
        "from keras.models import Sequential\n",
        "from keras.layers import Conv2D, Input, ZeroPadding2D, BatchNormalization, Activation, MaxPooling2D, Flatten, Dense,Dropout\n",
        "from keras.models import Model, load_model\n",
        "from keras.callbacks import TensorBoard, ModelCheckpoint\n",
        "from sklearn.model_selection import train_test_split\n",
        "from sklearn.metrics import f1_score\n",
        "from sklearn.utils import shuffle\n",
        "import imutils\n",
        "import numpy as np"
      ],
      "execution_count": 4,
      "outputs": []
    },
    {
      "cell_type": "markdown",
      "metadata": {
        "id": "JzFM3yiblK7n"
      },
      "source": [
        "2. Building the Neural Network"
      ]
    },
    {
      "cell_type": "code",
      "metadata": {
        "id": "SJCycKTHlPwi"
      },
      "source": [
        "model = Sequential([\n",
        "    Conv2D(100, (3,3), activation='relu', input_shape=(150, 150, 3)),\n",
        "    MaxPooling2D(2,2),\n",
        "    \n",
        "    Conv2D(100, (3,3), activation='relu'),\n",
        "    MaxPooling2D(2,2),\n",
        "    \n",
        "    Flatten(),\n",
        "    Dropout(0.5),\n",
        "    Dense(50, activation='relu'),\n",
        "    Dense(2, activation='softmax')\n",
        "])\n",
        "model.compile(optimizer='adam', loss='binary_crossentropy', metrics=['acc'])"
      ],
      "execution_count": 5,
      "outputs": []
    },
    {
      "cell_type": "markdown",
      "metadata": {
        "id": "AT5v1vX2ly9g"
      },
      "source": [
        "3. Generating data from image"
      ]
    },
    {
      "cell_type": "code",
      "metadata": {
        "id": "1Q7g5A0sl8QU"
      },
      "source": [
        "TRAINING_DIR = \"./train\"\n",
        "train_datagen = ImageDataGenerator(rescale=1.0/255,\n",
        "                                   rotation_range=40,\n",
        "                                   width_shift_range=0.2,\n",
        "                                   height_shift_range=0.2,\n",
        "                                   shear_range=0.2,\n",
        "                                   zoom_range=0.2,\n",
        "                                   horizontal_flip=True,\n",
        "                                   fill_mode='nearest')\n",
        "\n",
        "train_generator = train_datagen.flow_from_directory(TRAINING_DIR, \n",
        "                                                    batch_size=10, \n",
        "                                                    target_size=(150, 150))\n",
        "VALIDATION_DIR = \"./test\"\n",
        "validation_datagen = ImageDataGenerator(rescale=1.0/255)\n",
        "\n",
        "validation_generator = validation_datagen.flow_from_directory(VALIDATION_DIR, \n",
        "                                                         batch_size=10, \n",
        "                                                         target_size=(150, 150))"
      ],
      "execution_count": null,
      "outputs": []
    },
    {
      "cell_type": "markdown",
      "metadata": {
        "id": "gD_mvlg1qKvr"
      },
      "source": [
        "4. Initializing a callback checkpoint"
      ]
    },
    {
      "cell_type": "code",
      "metadata": {
        "id": "da55MnC5qP3V"
      },
      "source": [
        "checkpoint = ModelCheckpoint('model2-{epoch:03d}.model',monitor='val_loss',verbose=0,save_best_only=True,mode='auto')"
      ],
      "execution_count": 7,
      "outputs": []
    },
    {
      "cell_type": "markdown",
      "metadata": {
        "id": "otikW1Tcqcy0"
      },
      "source": [
        "5. Training the model"
      ]
    },
    {
      "cell_type": "code",
      "metadata": {
        "id": "ZFKj61laqhu9",
        "colab": {
          "base_uri": "https://localhost:8080/"
        },
        "outputId": "074e7a60-f7c4-4632-82c2-1e644e2df2b8"
      },
      "source": [
        "history = model.fit_generator(train_generator,\n",
        "                              epochs=10,\n",
        "                              validation_data=validation_generator,\n",
        "                              callbacks=[checkpoint])"
      ],
      "execution_count": 8,
      "outputs": [
        {
          "output_type": "stream",
          "name": "stderr",
          "text": [
            "/usr/local/lib/python3.7/dist-packages/ipykernel_launcher.py:4: UserWarning: `Model.fit_generator` is deprecated and will be removed in a future version. Please use `Model.fit`, which supports generators.\n",
            "  after removing the cwd from sys.path.\n"
          ]
        },
        {
          "output_type": "stream",
          "name": "stdout",
          "text": [
            "Epoch 1/10\n",
            "132/132 [==============================] - ETA: 0s - loss: 0.5604 - acc: 0.7536INFO:tensorflow:Assets written to: model2-001.model/assets\n",
            "132/132 [==============================] - 130s 978ms/step - loss: 0.5604 - acc: 0.7536 - val_loss: 0.1954 - val_acc: 0.9485\n",
            "Epoch 2/10\n",
            "132/132 [==============================] - 127s 959ms/step - loss: 0.3056 - acc: 0.8882 - val_loss: 0.2087 - val_acc: 0.9227\n",
            "Epoch 3/10\n",
            "132/132 [==============================] - ETA: 0s - loss: 0.3168 - acc: 0.8837INFO:tensorflow:Assets written to: model2-003.model/assets\n",
            "132/132 [==============================] - 127s 965ms/step - loss: 0.3168 - acc: 0.8837 - val_loss: 0.1156 - val_acc: 0.9485\n",
            "Epoch 4/10\n",
            "132/132 [==============================] - ETA: 0s - loss: 0.2580 - acc: 0.8958INFO:tensorflow:Assets written to: model2-004.model/assets\n",
            "132/132 [==============================] - 127s 964ms/step - loss: 0.2580 - acc: 0.8958 - val_loss: 0.0646 - val_acc: 0.9845\n",
            "Epoch 5/10\n",
            "132/132 [==============================] - 126s 953ms/step - loss: 0.2112 - acc: 0.9209 - val_loss: 0.0893 - val_acc: 0.9588\n",
            "Epoch 6/10\n",
            "132/132 [==============================] - 126s 951ms/step - loss: 0.2300 - acc: 0.9209 - val_loss: 0.1890 - val_acc: 0.8969\n",
            "Epoch 7/10\n",
            "132/132 [==============================] - ETA: 0s - loss: 0.1990 - acc: 0.9285INFO:tensorflow:Assets written to: model2-007.model/assets\n",
            "132/132 [==============================] - 127s 958ms/step - loss: 0.1990 - acc: 0.9285 - val_loss: 0.0532 - val_acc: 0.9742\n",
            "Epoch 8/10\n",
            "132/132 [==============================] - 126s 953ms/step - loss: 0.1840 - acc: 0.9338 - val_loss: 0.0768 - val_acc: 0.9588\n",
            "Epoch 9/10\n",
            "132/132 [==============================] - 125s 949ms/step - loss: 0.2040 - acc: 0.9240 - val_loss: 0.0787 - val_acc: 0.9536\n",
            "Epoch 10/10\n",
            "132/132 [==============================] - 126s 952ms/step - loss: 0.2015 - acc: 0.9354 - val_loss: 0.1027 - val_acc: 0.9485\n"
          ]
        }
      ]
    },
    {
      "cell_type": "code",
      "metadata": {
        "id": "9ALYflRu_G23"
      },
      "source": [
        "model.save(\"./mask_detector_model\", save_format='h5')"
      ],
      "execution_count": 11,
      "outputs": []
    },
    {
      "cell_type": "markdown",
      "metadata": {
        "id": "SHqzSzdlv6Fs"
      },
      "source": [
        "6. Testing the model"
      ]
    },
    {
      "cell_type": "code",
      "metadata": {
        "id": "-wkv-n7sv90p"
      },
      "source": [
        "import cv2\n",
        "import numpy as np\n",
        "from keras.models import load_model\n",
        "model=load_model(\"./mask_detector_model\")\n",
        "\n",
        "labels_dict={0:'Mask Off', 1:'Mask On'}\n",
        "color_dict={0:(0,0,255),1:(0,255,0)}\n",
        "\n",
        "size = 4\n",
        "# webcam = cv2.VideoCapture(0) #Use webcam\n",
        "webcam = cv2.VideoCapture(\"./testvid.mp4\")\n",
        "# We load the xml file\n",
        "classifier = cv2.CascadeClassifier('./haarcascade_frontalface_default.xml')\n",
        "\n",
        "while True:\n",
        "    (rval, im) = webcam.read()\n",
        "    im=cv2.flip(im,1,1) #Flip to act as a mirror\n",
        "\n",
        "    # Resize the image to speed up detection\n",
        "    mini = cv2.resize(im, (im.shape[1] // size, im.shape[0] // size))\n",
        "\n",
        "    # detect MultiScale / faces \n",
        "    faces = classifier.detectMultiScale(mini)\n",
        "\n",
        "    # Draw rectangles around each face\n",
        "    for f in faces:\n",
        "        (x, y, w, h) = [v * size for v in f] #Scale the shapesize backup\n",
        "        #Save just the rectangle faces in SubRecFaces\n",
        "        face_img = im[y:y+h, x:x+w]\n",
        "        resized=cv2.resize(face_img,(150,150))\n",
        "        normalized=resized/255.0\n",
        "        reshaped=np.reshape(normalized,(1,150,150,3))\n",
        "        reshaped = np.vstack([reshaped])\n",
        "        result=model.predict(reshaped)\n",
        "        \n",
        "        label=np.argmax(result,axis=1)[0]\n",
        "      \n",
        "        cv2.rectangle(im,(x,y),(x+w,y+h),color_dict[label],2)\n",
        "        cv2.rectangle(im,(x,y-40),(x+w,y),color_dict[label],-1)\n",
        "        cv2.putText(im, labels_dict[label], (x, y-10),cv2.FONT_HERSHEY_SIMPLEX,0.8,(255,255,255),2)\n",
        "        \n",
        "    # Show the image\n",
        "    cv2.imshow('LIVE',   im)\n",
        "    key = cv2.waitKey(10)\n",
        "    # if Esc key is press then break out of the loop \n",
        "    if key == 27: #The Esc key\n",
        "        break\n",
        "# Stop video\n",
        "webcam.release()\n",
        "\n",
        "# Close all started windows\n",
        "cv2.destroyAllWindows()"
      ],
      "execution_count": null,
      "outputs": []
    }
  ]
}